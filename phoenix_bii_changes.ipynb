{
 "cells": [
  {
   "cell_type": "markdown",
   "id": "9c9100d7-d2a4-4d19-8592-dabfe70833f9",
   "metadata": {},
   "source": [
    "# Analyze Maricopa County, Arizona  Biodiversity Intactness Index (BII) changes from 2017-2020"
   ]
  },
  {
   "cell_type": "markdown",
   "id": "e234fe57-6f49-45de-963a-8623e98042ba",
   "metadata": {
    "tags": []
   },
   "source": [
    "Author: Hazel Vaquero\n",
    "\n",
    "Repository Link: https://github.com/hazelvaq/Maricopa-Arizona-Changes-in-Biodiversity-Intactness-Index-.git \n",
    "\n",
    "## About \n",
    "\n",
    "In this notebook we analyse the changes observed in Biodiversity Intactness Index (BII) in Maricopa County, Phoenix, Arizona from 2017 to 2020. In 2021, Maricopa County was reported as the fastest growing county in the United States since 2001. It is the 4th largest county in terms of population. Urban development creates pressure on biodiversity and natural areas. This notebook seeks to analyze the impact of the rapid urban expansion in Maricopa County. \n",
    "\n",
    "## About the Datasets\n",
    "\n",
    "In this notebook we use two different datasets:\n",
    "\n",
    "**1. BII Data** \n",
    "\n",
    "The first dataset is from the [Planetary Computer Impact Observatory](https://planetarycomputer.microsoft.com/dataset/io-biodiversity). This dataset estimates terrestrial Biodiversity Intactness as a 100-meter gridded maps for the years 2017-2020. Biodiversity intactness is an estimated combination of two metrics:\n",
    "- Abundance\n",
    "- Compositional Similarity: how similar the composition of species is to an intact baseline\n",
    "\n",
    "The collection we will be working with is `io-biodiversity`. \n",
    "\n",
    "**2. Phoenix Subdivison** \n",
    "\n",
    "The second dataste is from the [United Census Bureau](https://www.census.gov/cgi-bin/geo/shapefiles/). This data has been downloaded as a shapefile and has 19 columns. It contains the county names, land area and water area to name a few.    \n",
    "\n",
    "## Final Output\n",
    "\n",
    "The final visualization"
   ]
  },
  {
   "cell_type": "markdown",
   "id": "a0c04766-c672-4938-addc-9d018097f938",
   "metadata": {},
   "source": [
    "### Import Libraries "
   ]
  },
  {
   "cell_type": "code",
   "execution_count": 5,
   "id": "7161dbe1-038e-45aa-9eb2-d28922212999",
   "metadata": {
    "tags": []
   },
   "outputs": [
    {
     "ename": "ModuleNotFoundError",
     "evalue": "No module named 'contextily'",
     "output_type": "error",
     "traceback": [
      "\u001b[0;31m---------------------------------------------------------------------------\u001b[0m",
      "\u001b[0;31mModuleNotFoundError\u001b[0m                       Traceback (most recent call last)",
      "\u001b[0;32m/tmp/ipykernel_3241669/2762871072.py\u001b[0m in \u001b[0;36m<module>\u001b[0;34m\u001b[0m\n\u001b[1;32m     16\u001b[0m \u001b[0;34m\u001b[0m\u001b[0m\n\u001b[1;32m     17\u001b[0m \u001b[0;31m# Package to work with web-tiles for background maps\u001b[0m\u001b[0;34m\u001b[0m\u001b[0;34m\u001b[0m\u001b[0m\n\u001b[0;32m---> 18\u001b[0;31m \u001b[0;32mimport\u001b[0m \u001b[0mcontextily\u001b[0m \u001b[0;32mas\u001b[0m \u001b[0mcx\u001b[0m\u001b[0;34m\u001b[0m\u001b[0;34m\u001b[0m\u001b[0m\n\u001b[0m",
      "\u001b[0;31mModuleNotFoundError\u001b[0m: No module named 'contextily'"
     ]
    }
   ],
   "source": [
    "# Import Libraries\n",
    "import numpy as np\n",
    "import geopandas as gpd\n",
    "import rioxarray as rioxr\n",
    "import matplotlib.pyplot as plt\n",
    "\n",
    "from shapely.geometry import Polygon\n",
    "\n",
    "# Used to access STAC catalogs\n",
    "#from pystac_client import Client\n",
    "# Used to sign items from the MPC STAC catalog\n",
    "#import planetary_computer\n",
    "\n",
    "# other libraries for nice outputs\n",
    "# from IPython.display import Image\n",
    "\n",
    "# Package to work with web-tiles for background maps\n",
    "import contextily as cx"
   ]
  },
  {
   "cell_type": "markdown",
   "id": "7ca2e84d-d11c-43cd-a5ea-ae362058eb16",
   "metadata": {},
   "source": [
    "### Catalog Search\n",
    "\n",
    "We can narrow the search within the `catalog` by specifying our\n",
    "- Time range: 2017 - 2020\n",
    "- Area of Interest: `[-112.826843, 32.974108, -111.184387, 33.863574]`\n",
    "- Collection name: `io-biodiversity`"
   ]
  },
  {
   "cell_type": "code",
   "execution_count": 2,
   "id": "cf5c45db-0e37-4b55-ba42-dba72837de43",
   "metadata": {
    "tags": []
   },
   "outputs": [
    {
     "ename": "NameError",
     "evalue": "name 'Client' is not defined",
     "output_type": "error",
     "traceback": [
      "\u001b[0;31m---------------------------------------------------------------------------\u001b[0m",
      "\u001b[0;31mNameError\u001b[0m                                 Traceback (most recent call last)",
      "\u001b[0;32m/tmp/ipykernel_3241669/2281880812.py\u001b[0m in \u001b[0;36m<module>\u001b[0;34m\u001b[0m\n\u001b[1;32m      2\u001b[0m \u001b[0;34m\u001b[0m\u001b[0m\n\u001b[1;32m      3\u001b[0m \u001b[0;31m## Acess Planatery Computer Catalog\u001b[0m\u001b[0;34m\u001b[0m\u001b[0;34m\u001b[0m\u001b[0m\n\u001b[0;32m----> 4\u001b[0;31m catalog = Client.open(\n\u001b[0m\u001b[1;32m      5\u001b[0m     \u001b[0;34m\"https://planetarycomputer.microsoft.com/api/stac/v1\"\u001b[0m\u001b[0;34m,\u001b[0m\u001b[0;34m\u001b[0m\u001b[0;34m\u001b[0m\u001b[0m\n\u001b[1;32m      6\u001b[0m     \u001b[0mmodifier\u001b[0m\u001b[0;34m=\u001b[0m\u001b[0mplanetary_computer\u001b[0m\u001b[0;34m.\u001b[0m\u001b[0msign_inplace\u001b[0m\u001b[0;34m,\u001b[0m\u001b[0;34m\u001b[0m\u001b[0;34m\u001b[0m\u001b[0m\n",
      "\u001b[0;31mNameError\u001b[0m: name 'Client' is not defined"
     ]
    }
   ],
   "source": [
    "# Data Import: BII data\n",
    "\n",
    "## Acess Planatery Computer Catalog\n",
    "catalog = Client.open(\n",
    "    \"https://planetarycomputer.microsoft.com/api/stac/v1\",\n",
    "    modifier=planetary_computer.sign_inplace,\n",
    ")\n",
    "\n",
    "## Catalog Search\n",
    "# Set temporal range\n",
    "time_range = \"2017/2020\"\n",
    "# Bonding box of Phoenix subdivision\n",
    "bbox = {\n",
    "   \"type\": \"Polygon\",\n",
    "    \"coordinates\": [\n",
    "        [\n",
    "            [-112.826843, 32.974108],\n",
    "            [-111.184387, 32.974108],\n",
    "            [-111.184387, 33.863574],\n",
    "            [-112.826843, 33.863574],\n",
    "            [-112.826843, 32.974108]  # Make sure the first and last coordinates are the same to close the polygon\n",
    "        ]\n",
    "    ]\n",
    "}\n",
    "# catalog search\n",
    "search = catalog.search(\n",
    "    collections=['io-biodiversity'],\n",
    "    intersects=bbox,\n",
    "    datetime = time_range\n",
    ")\n",
    "\n",
    "# Get items found in catalog search\n",
    "item = search.item_collection()\n",
    "\n",
    "# get first item in the catalog search\n",
    "item = items[0]"
   ]
  },
  {
   "cell_type": "markdown",
   "id": "89c685b5-67d7-4751-82f3-e35ef7b53574",
   "metadata": {},
   "source": [
    "Lets view the items in the catalog search and select the first item!"
   ]
  },
  {
   "cell_type": "code",
   "execution_count": null,
   "id": "805880ec-9cdd-42be-b203-ee92b6c877ea",
   "metadata": {},
   "outputs": [],
   "source": [
    "# Get items found in catalog search\n",
    "items = search.item_collection()\n",
    "​\n",
    "# get first item in the catalog search\n",
    "item = items[0]\n"
   ]
  },
  {
   "cell_type": "markdown",
   "id": "5a4bded7-3595-4719-949c-db6484c42d3f",
   "metadata": {},
   "source": [
    "Now we can view the item assets keys. Our assets of interest are:\n",
    "\n",
    "- `data`: which contains the data we are interested in\n",
    "- `rendered_preview`: a preview of our raster imagery"
   ]
  },
  {
   "cell_type": "code",
   "execution_count": null,
   "id": "99daabc0-a1a6-47a6-96e3-ff9b1d1356bd",
   "metadata": {},
   "outputs": [],
   "source": [
    "for key in item.assets.keys():\n",
    "    print(key, '--', item.assets[key].title)"
   ]
  },
  {
   "cell_type": "markdown",
   "id": "b7495805-887c-4fb9-8ed0-8a2b7e1144eb",
   "metadata": {},
   "source": [
    "Let's view our rendered preview."
   ]
  },
  {
   "cell_type": "code",
   "execution_count": null,
   "id": "4c10591a-7225-4a48-b604-29ff37e4d1aa",
   "metadata": {},
   "outputs": [],
   "source": [
    "# plot rendered preview\n",
    "Image(url=item.assets['rendered_preview'].href, width=500)"
   ]
  },
  {
   "cell_type": "markdown",
   "id": "23e44654-b505-4816-a965-f2a30953e502",
   "metadata": {},
   "source": [
    "### Import Data"
   ]
  },
  {
   "cell_type": "markdown",
   "id": "24d3e774-f6a3-4a30-a7b1-c8efb6e94664",
   "metadata": {},
   "source": [
    "Now we can select our `data` from the catelog for our analysis  "
   ]
  },
  {
   "cell_type": "code",
   "execution_count": null,
   "id": "efaf4916-e141-44c0-8af4-69d6f9597989",
   "metadata": {},
   "outputs": [],
   "source": [
    "maricopa = rioxr.open_rasterio(item.assets['data'].href)\n",
    "maricopa"
   ]
  },
  {
   "cell_type": "markdown",
   "id": "0adb2606-55ee-4002-b273-e716a9b7c19e",
   "metadata": {},
   "source": [
    "#### Data Import: Arizona Counties shapefile "
   ]
  },
  {
   "cell_type": "code",
   "execution_count": 6,
   "id": "a33f5ddd-534e-4b00-a17b-6fb3f352c112",
   "metadata": {
    "tags": []
   },
   "outputs": [],
   "source": [
    "# Data Import: Arizona counties shapefile\n",
    "arizona_counties = gpd.read_file('data/tl_2022_04_cousub/tl_2022_04_cousub.shp')\n",
    "\n",
    "# Data Import: U.S. states shapefile\n",
    "us_states = gpd.read_file('data/states_shapefile/States_shapefile.shp')"
   ]
  },
  {
   "cell_type": "markdown",
   "id": "d076bd34-d31c-4564-8493-b9b4d80f47de",
   "metadata": {},
   "source": [
    "## Prepare Data"
   ]
  },
  {
   "cell_type": "code",
   "execution_count": 9,
   "id": "6e32bb7a-0c81-4c4f-9a5a-3573d1295c23",
   "metadata": {
    "tags": []
   },
   "outputs": [
    {
     "data": {
      "text/html": [
       "<div>\n",
       "<style scoped>\n",
       "    .dataframe tbody tr th:only-of-type {\n",
       "        vertical-align: middle;\n",
       "    }\n",
       "\n",
       "    .dataframe tbody tr th {\n",
       "        vertical-align: top;\n",
       "    }\n",
       "\n",
       "    .dataframe thead th {\n",
       "        text-align: right;\n",
       "    }\n",
       "</style>\n",
       "<table border=\"1\" class=\"dataframe\">\n",
       "  <thead>\n",
       "    <tr style=\"text-align: right;\">\n",
       "      <th></th>\n",
       "      <th>statefp</th>\n",
       "      <th>countyfp</th>\n",
       "      <th>cousubfp</th>\n",
       "      <th>cousubns</th>\n",
       "      <th>geoid</th>\n",
       "      <th>name</th>\n",
       "      <th>namelsad</th>\n",
       "      <th>lsad</th>\n",
       "      <th>classfp</th>\n",
       "      <th>mtfcc</th>\n",
       "      <th>cnectafp</th>\n",
       "      <th>nectafp</th>\n",
       "      <th>nctadvfp</th>\n",
       "      <th>funcstat</th>\n",
       "      <th>aland</th>\n",
       "      <th>awater</th>\n",
       "      <th>intptlat</th>\n",
       "      <th>intptlon</th>\n",
       "      <th>geometry</th>\n",
       "    </tr>\n",
       "  </thead>\n",
       "  <tbody>\n",
       "    <tr>\n",
       "      <th>57</th>\n",
       "      <td>04</td>\n",
       "      <td>021</td>\n",
       "      <td>92091</td>\n",
       "      <td>01934958</td>\n",
       "      <td>0402192091</td>\n",
       "      <td>Maricopa-Stanfield</td>\n",
       "      <td>Maricopa-Stanfield CCD</td>\n",
       "      <td>22</td>\n",
       "      <td>Z5</td>\n",
       "      <td>G4040</td>\n",
       "      <td>None</td>\n",
       "      <td>None</td>\n",
       "      <td>None</td>\n",
       "      <td>S</td>\n",
       "      <td>1026963163</td>\n",
       "      <td>668887</td>\n",
       "      <td>+32.9120190</td>\n",
       "      <td>-112.0749104</td>\n",
       "      <td>POLYGON ((-112.20357 32.68926, -112.20357 32.6...</td>\n",
       "    </tr>\n",
       "  </tbody>\n",
       "</table>\n",
       "</div>"
      ],
      "text/plain": [
       "   statefp countyfp cousubfp  cousubns       geoid                name  \\\n",
       "57      04      021    92091  01934958  0402192091  Maricopa-Stanfield   \n",
       "\n",
       "                  namelsad lsad classfp  mtfcc cnectafp nectafp nctadvfp  \\\n",
       "57  Maricopa-Stanfield CCD   22      Z5  G4040     None    None     None   \n",
       "\n",
       "   funcstat       aland  awater     intptlat      intptlon  \\\n",
       "57        S  1026963163  668887  +32.9120190  -112.0749104   \n",
       "\n",
       "                                             geometry  \n",
       "57  POLYGON ((-112.20357 32.68926, -112.20357 32.6...  "
      ]
     },
     "execution_count": 9,
     "metadata": {},
     "output_type": "execute_result"
    }
   ],
   "source": [
    "# Lets make this lower case \n",
    "arizona_counties.columns = arizona_counties.columns.str.lower()\n",
    "\n",
    "# Filter to Maricopa County\n",
    "maricopa_counties = arizona_counties[arizona_counties.name =='Maricopa-Stanfield']\n",
    "\n",
    "# Let's view our results \n",
    "maricopa_counties"
   ]
  }
 ],
 "metadata": {
  "kernelspec": {
   "display_name": "Anaconda 3 (Base)",
   "language": "python",
   "name": "base"
  },
  "language_info": {
   "codemirror_mode": {
    "name": "ipython",
    "version": 3
   },
   "file_extension": ".py",
   "mimetype": "text/x-python",
   "name": "python",
   "nbconvert_exporter": "python",
   "pygments_lexer": "ipython3",
   "version": "3.9.13"
  }
 },
 "nbformat": 4,
 "nbformat_minor": 5
}
