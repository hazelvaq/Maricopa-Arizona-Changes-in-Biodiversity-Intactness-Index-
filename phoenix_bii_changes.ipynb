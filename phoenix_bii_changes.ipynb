{
 "cells": [
  {
   "cell_type": "markdown",
   "id": "9c9100d7-d2a4-4d19-8592-dabfe70833f9",
   "metadata": {},
   "source": [
    "# Analyze Phoenix subdivision Biodiversity Intactness Index (BII) changes from 2017-2020"
   ]
  },
  {
   "cell_type": "markdown",
   "id": "e234fe57-6f49-45de-963a-8623e98042ba",
   "metadata": {
    "tags": []
   },
   "source": [
    "Author: Hazel Vaquero\n",
    "\n",
    "Repository: https://github.com/hazelvaq/Maricopa-Arizona-Changes-in-Biodiversity-Intactness-Index-.git\n",
    "\n",
    "## About \n",
    "\n",
    "In this notebook, I analyzed the changes observed in the Biodiversity Intactness Index (BII) in  Phoenix subdivision, Arizona from 2017 to 2020. In 2021, Maricopa County was reported as the fastest-growing county in the United States since 2001. It is the 4th largest county in terms of population. Urbananization is one of the greatest threats to biodiversity, and urban land use is expected to increase in the following [years.](https://www.creaf.cat/global-change/urbanization-and-biodiversity#:~:text=Of%20all%20of%20the%20environmental,become%20dominated%20by%20anthropic%20habitats.) Understanding the impacts of urbanization on biodiversity is important for the perservation of the natural systems and services they provide.  \n",
    "\n",
    "\n",
    "This notebook seeks to analyze the impact of the rapid urban expansion in Phoenix subdivision. \n",
    "\n",
    "If you would like more information or acess the datasets needed for this notebook please find more information at the following repository link:\n",
    "https://github.com/hazelvaq/Maricopa-Arizona-Changes-in-Biodiversity-Intactness-Index-.git \n",
    "\n",
    "## Highlights\n",
    "\n",
    "- Raster wrangling with `rioxarray`\n",
    "- Creating and customizing a raster plot\n",
    "- \n",
    "\n",
    "## About the Datasets\n",
    "\n",
    "In this notebook two different datasets are used:\n",
    "\n",
    "**1. BII Data** \n",
    "\n",
    "The first dataset is from the [Planetary Computer Impact Observatory](https://planetarycomputer.microsoft.com/dataset/io-biodiversity). This dataset estimates terrestrial Biodiversity Intactness as a 100-meter gridded maps for the years 2017-2020. Biodiversity intactness is an estimated combination of two metrics:\n",
    "- Abundance\n",
    "- Compositional Similarity: how similar the composition of species is to an intact baseline\n",
    "\n",
    "It builds on past studies using the [PREDICTS](https://onlinelibrary.wiley.com/doi/full/10.1002/ece3.2579) database of spatially referenced obeservations of biodiversity across 32,000 sites from over 750 studies.\n",
    "\n",
    "\n",
    "The collection we will be working with is `io-biodiversity`. \n",
    "\n",
    "**2. Phoenix Subdivison** \n",
    "\n",
    "The second dataste is from the [United Census Bureau](https://www.census.gov/cgi-bin/geo/shapefiles/index.php?year=2022&layergroup=County+Subdivisions). This data has been downloaded as a shapefile and has 19 columns. It contains the county names, land area and water area to name a few. Arizona county subdivision will be used for this notebook.\n",
    "\n",
    "\n",
    "\n",
    "\n",
    "<ins> Data Citations <ins> :\n",
    "    \n",
    "Microsoft Open Source, Matt McFarland, Rob Emanuele, Dan Morris, & Tom Augspurger. (2022). microsoft/PlanetaryComputer: October 2022 (2022.10.28). Zenodo. https://doi.org/10.5281/zenodo.7261897\n",
    "    \n",
    "U.S. Census Bureau. (2022). 2022 TIGER/Line® Shapefiles: County Subdivisions. Retrieved December 5, from https://www.census.gov/cgi-bin/geo/shapefiles/index.phpyear=2022&layergroup=County+Subdivisions\n",
    "\n",
    "\n"
   ]
  },
  {
   "cell_type": "markdown",
   "id": "a0c04766-c672-4938-addc-9d018097f938",
   "metadata": {},
   "source": [
    "### Import Libraries "
   ]
  },
  {
   "cell_type": "code",
   "execution_count": null,
   "id": "7161dbe1-038e-45aa-9eb2-d28922212999",
   "metadata": {
    "tags": []
   },
   "outputs": [],
   "source": [
    "# Import Libraries\n",
    "import numpy as np\n",
    "import geopandas as gpd\n",
    "import xarray as xr\n",
    "import rioxarray as rioxr\n",
    "import matplotlib.pyplot as plt\n",
    "import matplotlib.patches as mpatches # for creating legends\n",
    "\n",
    "from shapely.geometry import Polygon\n",
    "\n",
    "# Used to access STAC catalogs\n",
    "from pystac_client import Client\n",
    "# Used to sign items from the MPC STAC catalog\n",
    "import planetary_computer\n",
    "\n",
    "# other libraries for nice outputs\n",
    "from IPython.display import Image\n",
    "\n",
    "# Package to work with web-tiles for background maps\n",
    "import contextily as ctx"
   ]
  },
  {
   "cell_type": "markdown",
   "id": "7ca2e84d-d11c-43cd-a5ea-ae362058eb16",
   "metadata": {},
   "source": [
    "### Catalog Search\n",
    "\n",
    "We can narrow the search within the `catalog` by specifying our\n",
    "- Time range: 2017 - 2020\n",
    "- Area of Interest: `[-112.826843, 32.974108, -111.184387, 33.863574]`\n",
    "- Collection name: `io-biodiversity`"
   ]
  },
  {
   "cell_type": "code",
   "execution_count": null,
   "id": "cf5c45db-0e37-4b55-ba42-dba72837de43",
   "metadata": {
    "tags": []
   },
   "outputs": [],
   "source": [
    "# Data Import: BII data\n",
    "\n",
    "## Acess Planatery Computer Catalog\n",
    "catalog = Client.open(\n",
    "    \"https://planetarycomputer.microsoft.com/api/stac/v1\",\n",
    "    modifier=planetary_computer.sign_inplace,\n",
    ")\n",
    "\n",
    "## Catalog Search\n",
    "# Set temporal range\n",
    "time_range = \"2017/2020\"\n",
    "# Bonding box of Phoenix subdivision\n",
    "bbox = [-112.826843, 32.974108, -111.184387, 33.863574]\n",
    "# catalog search\n",
    "search = catalog.search(\n",
    "    collections=['io-biodiversity'],\n",
    "    bbox=bbox,\n",
    "    datetime = time_range\n",
    ")"
   ]
  },
  {
   "cell_type": "markdown",
   "id": "89c685b5-67d7-4751-82f3-e35ef7b53574",
   "metadata": {},
   "source": [
    "Lets view the items in the catalog search and select the first item!"
   ]
  },
  {
   "cell_type": "code",
   "execution_count": null,
   "id": "805880ec-9cdd-42be-b203-ee92b6c877ea",
   "metadata": {},
   "outputs": [],
   "source": [
    "# Get items found in catalog search\n",
    "items = search.item_collection()\n",
    "\n",
    "# There are 4 items in our time range and area of interest\n",
    "items"
   ]
  },
  {
   "cell_type": "markdown",
   "id": "fb0961e7-b0b3-4ecb-87db-a3214c57b8ae",
   "metadata": {},
   "source": [
    "We are interested in finding the BII diversity from 2017 to 2020. So we need to select both datasets. In our previous inspection of `items` we determined 2020 to be the first value of `items`. Our 2017 is our 4th value. "
   ]
  },
  {
   "cell_type": "code",
   "execution_count": null,
   "id": "c7bb502a-d8b1-4a7a-832e-769c80486bf6",
   "metadata": {},
   "outputs": [],
   "source": [
    "# Select our 2017 item\n",
    "item_2017 = items[3]\n",
    "\n",
    "# Select our 2020 item\n",
    "item_2020 = items[0]"
   ]
  },
  {
   "cell_type": "markdown",
   "id": "5a4bded7-3595-4719-949c-db6484c42d3f",
   "metadata": {},
   "source": [
    "Now we can view the item assets keys. Our assets of interest are:\n",
    "\n",
    "- `data`: which contains the data we are interested in\n",
    "- `rendered_preview`: a preview of our raster imagery"
   ]
  },
  {
   "cell_type": "code",
   "execution_count": null,
   "id": "99daabc0-a1a6-47a6-96e3-ff9b1d1356bd",
   "metadata": {},
   "outputs": [],
   "source": [
    "# Let's view our keys in assets\n",
    "for key in item_2020.assets.keys():\n",
    "    print(key, '--', item_2020.assets[key].title)"
   ]
  },
  {
   "cell_type": "markdown",
   "id": "b7495805-887c-4fb9-8ed0-8a2b7e1144eb",
   "metadata": {},
   "source": [
    "Let's view our rendered preview."
   ]
  },
  {
   "cell_type": "code",
   "execution_count": null,
   "id": "4c10591a-7225-4a48-b604-29ff37e4d1aa",
   "metadata": {},
   "outputs": [],
   "source": [
    "# plot 2017 rendered preview\n",
    "Image(url=item_2017.assets['rendered_preview'].href, width=500)"
   ]
  },
  {
   "cell_type": "code",
   "execution_count": null,
   "id": "e39c5e00-4d01-491f-8506-1734410c7b51",
   "metadata": {},
   "outputs": [],
   "source": [
    "# plot 2020 rendered preview\n",
    "Image(url=item_2020.assets['rendered_preview'].href, width=500)"
   ]
  },
  {
   "cell_type": "markdown",
   "id": "23e44654-b505-4816-a965-f2a30953e502",
   "metadata": {},
   "source": [
    "### Import Data\n",
    "\n",
    "Now we can select our `data` from the catelog for our analysis  \n",
    "\n",
    "#### Data Import: Phoenix Subdivision BII data"
   ]
  },
  {
   "cell_type": "code",
   "execution_count": null,
   "id": "efaf4916-e141-44c0-8af4-69d6f9597989",
   "metadata": {},
   "outputs": [],
   "source": [
    "# 2017 Phoenix Subdivision data\n",
    "bi_2017 = rioxr.open_rasterio(item_2017.assets['data'].href)\n",
    "bi_2017\n",
    "\n",
    "# 2020 Phoenix Subdivision data\n",
    "bi_2020 = rioxr.open_rasterio(item_2020.assets['data'].href)\n",
    "bi_2020"
   ]
  },
  {
   "cell_type": "markdown",
   "id": "0adb2606-55ee-4002-b273-e716a9b7c19e",
   "metadata": {},
   "source": [
    "#### Data Import: Arizona Counties shapefile "
   ]
  },
  {
   "cell_type": "code",
   "execution_count": null,
   "id": "a33f5ddd-534e-4b00-a17b-6fb3f352c112",
   "metadata": {
    "tags": []
   },
   "outputs": [],
   "source": [
    "# Data Import: Arizona counties shapefile\n",
    "arizona_sub = gpd.read_file('data/tl_2022_04_cousub/tl_2022_04_cousub.shp')\n",
    "\n",
    "# Data Import: U.S. states shapefile\n",
    "us_states = gpd.read_file('data/states_shapefile/States_shapefile.shp')"
   ]
  },
  {
   "cell_type": "markdown",
   "id": "d076bd34-d31c-4564-8493-b9b4d80f47de",
   "metadata": {},
   "source": [
    "## Prepare Data\n",
    "\n",
    "Let's take a few steps to clean up our data for analysis"
   ]
  },
  {
   "cell_type": "code",
   "execution_count": null,
   "id": "6e32bb7a-0c81-4c4f-9a5a-3573d1295c23",
   "metadata": {
    "tags": []
   },
   "outputs": [],
   "source": [
    "# Lets make this lower case \n",
    "arizona_sub.columns = arizona_sub.columns.str.lower()\n",
    "\n",
    "# Filter to Phoenix subdivision\n",
    "phoenix = arizona_sub[arizona_sub.name =='Phoenix']\n",
    "\n",
    "# Let's view our results \n",
    "phoenix"
   ]
  },
  {
   "cell_type": "markdown",
   "id": "95a343c8-dc48-4479-9c7c-4bd44e71e2d9",
   "metadata": {},
   "source": [
    "#### Phoenix subdivision geographical context\n",
    "\n",
    "For geographical context, below is a map of the Phoenix subdivision with relation to Arizona."
   ]
  },
  {
   "cell_type": "code",
   "execution_count": null,
   "id": "f6de9c2a-af1a-45e0-9b4d-76a4c2888dde",
   "metadata": {},
   "outputs": [],
   "source": [
    "# Map of Phoenix subdivision with appropraite geographical context\n",
    "\n",
    "fig, ax = plt.subplots()\n",
    "\n",
    "(phoenix.to_crs(epsg=3857).plot(ax=ax, figsize = (20,20), alpha = 0.5, edgecolor = \"k\"))\n",
    "\n",
    "ctx.add_basemap(ax=ax, source = ctx.providers.Esri.NatGeoWorldMap)\n",
    "\n",
    "ax.set_title(\"Phoenix subdivision\")\n",
    "ax.set_axis_off()"
   ]
  },
  {
   "cell_type": "markdown",
   "id": "2cce88cf-f41f-4254-a1e3-c80ae9201678",
   "metadata": {},
   "source": [
    "**Cropping**\n",
    "\n",
    "Now we can crop our bii raster data to our `phoenix` shapefile."
   ]
  },
  {
   "cell_type": "code",
   "execution_count": null,
   "id": "99c46b85-73d7-46bb-aa01-2fef23b0837d",
   "metadata": {},
   "outputs": [],
   "source": [
    "# reproject phoenix to stack crs\n",
    "phoenix = phoenix.to_crs(bi_2017.rio.crs)\n",
    "\n",
    "print(\"CRS match:\",phoenix.crs == bi_2017.rio.crs)"
   ]
  },
  {
   "cell_type": "code",
   "execution_count": null,
   "id": "f53622d6-7efe-4bc0-9cb6-9aa9d4d43b30",
   "metadata": {},
   "outputs": [],
   "source": [
    "# Lets crop the county data to the both rasters\n",
    "\n",
    "# Clip 2017 BII raster\n",
    "bi_2017 = bi_2017.rio.clip(phoenix[\"geometry\"])\n",
    "\n",
    "# Clip 2020 BII raster\n",
    "bi_2020 = bi_2020.rio.clip(phoenix[\"geometry\"])"
   ]
  },
  {
   "cell_type": "markdown",
   "id": "38d230fb-44ec-4681-9c34-77f22df86104",
   "metadata": {
    "tags": []
   },
   "source": [
    "As a check we can view the clipped results."
   ]
  },
  {
   "cell_type": "code",
   "execution_count": null,
   "id": "91d85d87-ad5d-427a-a4dd-2df629ae29dc",
   "metadata": {
    "tags": []
   },
   "outputs": [],
   "source": [
    "# View 2017 results \n",
    "#bi_2017.plot()"
   ]
  },
  {
   "cell_type": "code",
   "execution_count": null,
   "id": "688461df-89e5-44e9-aae4-771e7ae5958f",
   "metadata": {
    "tags": []
   },
   "outputs": [],
   "source": [
    "# View 2020 BII\n",
    "#bi_2020.plot()"
   ]
  },
  {
   "cell_type": "markdown",
   "id": "43110bb9-83c1-42ce-8e39-f6f21559d982",
   "metadata": {},
   "source": [
    "### Percentage of Area and raster manipulation\n",
    "\n",
    "We are interested in identifying areas in the Phoneix subdivision that saw a BII of at least 0.75 for 2017 and 2020. This can be done by the following method: "
   ]
  },
  {
   "cell_type": "code",
   "execution_count": null,
   "id": "d1f51e3e-afb4-4f4c-8b3c-2dfcd81b06aa",
   "metadata": {
    "tags": []
   },
   "outputs": [],
   "source": [
    "# Find areas in 2017 that are greater than 0.75\n",
    "area_2017 = bi_2017 >= 0.75\n",
    "\n",
    "# Convert boolean values as 1 and 0's\n",
    "area_2017 = area_2017.astype(int)"
   ]
  },
  {
   "cell_type": "code",
   "execution_count": null,
   "id": "9f58fd5c-5ad4-495b-b499-28871763c6ec",
   "metadata": {
    "tags": []
   },
   "outputs": [],
   "source": [
    "# Find areas in 2020 that are geater than 0.75\n",
    "area_2020 = bi_2020 >= 0.75\n",
    "\n",
    "# Convert boolean values as 1 and 0's\n",
    "area_2020 = area_2020.astype(int)"
   ]
  },
  {
   "cell_type": "markdown",
   "id": "330131e3-49ae-4b1f-8762-d036028774d7",
   "metadata": {},
   "source": [
    "Converting our `TRUE` values to binary (0 1) will help when visualizing the areas lost difference. "
   ]
  },
  {
   "cell_type": "markdown",
   "id": "40b53d96-efb1-4db4-abe2-98852bd9e746",
   "metadata": {},
   "source": [
    "### Percentage of Area section\n",
    "\n",
    "We are interested in finding the percentage of area of the Phoenix subdivision with a BII of at least 0.75 in 2017 and 2020. "
   ]
  },
  {
   "cell_type": "code",
   "execution_count": null,
   "id": "fcbc4877-f6ea-4233-a6c9-cd551bc2e11f",
   "metadata": {
    "tags": []
   },
   "outputs": [],
   "source": [
    "# Calulate the percent by taking the sum values as 1 / total count - 2017\n",
    "percent_2017 = (area_2017.sum().item() / area_2017.count().item()) * 100\n",
    "\n",
    "# Calulate the percent by taking the sum values as 1 / total count - 2020\n",
    "percent_2020 = area_2020.sum().item() / area_2020.count().item() * 100\n",
    "\n",
    "# Create a general line of text \n",
    "text = \"Percentage of area with a BII of at least 0.75 in\"\n",
    "\n",
    "# Print percent area results for 2017\n",
    "print(text, \"2017:\", round(percent_2017,4), \"%\")\n",
    "\n",
    "# Print percent area results for 2020\n",
    "print(text, \"2020:\", round(percent_2020,4), \"%\")"
   ]
  },
  {
   "cell_type": "markdown",
   "id": "ae813949-93be-47ca-8f2c-0e001efc6bbb",
   "metadata": {},
   "source": [
    "## Visualization of area in 2017 lost by 2020\n",
    "\n",
    "Our final step before visualization is to calculate the difference between BII 2017 and BII 2020. "
   ]
  },
  {
   "cell_type": "markdown",
   "id": "5f454704-19ca-4e6a-8283-e847aed076e9",
   "metadata": {
    "tags": []
   },
   "source": [
    "### Preparation"
   ]
  },
  {
   "cell_type": "code",
   "execution_count": null,
   "id": "851976ef-1b4d-4e01-8aa6-13588ee1cf92",
   "metadata": {
    "tags": []
   },
   "outputs": [],
   "source": [
    "# Calculate the difference between bii 2017 and bii2020\n",
    "bi_difference = area_2017 - area_2020"
   ]
  },
  {
   "cell_type": "code",
   "execution_count": null,
   "id": "9a777eb0-9adc-4307-9fc8-d1276e96affd",
   "metadata": {},
   "outputs": [],
   "source": [
    "# Find just the 1 values\n",
    "bi_difference = bi_difference == 1  \n",
    "\n",
    "# Convert our results back to boolean values (0,1)\n",
    "bi_difference = bi_difference.astype(int)"
   ]
  },
  {
   "cell_type": "code",
   "execution_count": null,
   "id": "50f4556f-8c74-4cb5-9ec2-fadbf8ba413d",
   "metadata": {
    "tags": []
   },
   "outputs": [],
   "source": [
    "# View our results\n",
    "#bi_difference.plot()"
   ]
  },
  {
   "cell_type": "markdown",
   "id": "37076c3c-b00f-4e90-991e-84a12f8d93ba",
   "metadata": {},
   "source": [
    "Let's change the color schale by setting our `1` values to `red` and `0` to `none`"
   ]
  },
  {
   "cell_type": "code",
   "execution_count": null,
   "id": "36550a93-bb02-45e4-b6fa-138b51707322",
   "metadata": {
    "tags": []
   },
   "outputs": [],
   "source": [
    "# Create a custom colormap with two distinct colors\n",
    "colors = ['none', 'red']  # Specify colors for your two categories\n",
    "cmap = plt.cm.colors.ListedColormap(colors)\n",
    "\n",
    "# Plot to view results\n",
    "#bi_difference.plot(cmap=cmap, add_colorbar = False) "
   ]
  },
  {
   "cell_type": "markdown",
   "id": "4e686cb5-ffd0-4dd9-8b21-11fbc44198f0",
   "metadata": {
    "tags": []
   },
   "source": [
    "### Map Creation\n",
    "Visualization showing the area with BII>=0.75 in 2017 that was lost by 2020"
   ]
  },
  {
   "cell_type": "code",
   "execution_count": null,
   "id": "cec467e0-1ac0-4e1b-954d-fbe015c30c03",
   "metadata": {
    "tags": []
   },
   "outputs": [],
   "source": [
    "fig, ax = plt.subplots(figsize = (5,5))\n",
    "\n",
    "# Remove axis\n",
    "ax.axis(\"off\")\n",
    "\n",
    "# ---------------------- BII 2017 map ------------------------------------------------\n",
    "bi_2020.plot(ax=ax, cmap='Greens',\n",
    "             cbar_kwargs={\"location\": \"bottom\", 'label': \"2020 BII\"},)\n",
    "# ----- Area with BII ≥ 0.75 lost from 2017 to 2020 ----------------------------------  \n",
    "bi_difference.plot(ax=ax ,cmap=cmap, add_colorbar = False)\n",
    "bi_patches = mpatches.Patch(color = \"red\",\n",
    "                           label = \"Area with BII ≥ 0.75 lost from 2017 to 2020\")\n",
    "\n",
    "# --------------------- Add Phoenix base map ----------------------------------------\n",
    "phoenix.plot(ax = ax,color = \"none\", linewidth = 1)\n",
    "\n",
    "# ----Legend -------------------------------------------------------------------------\n",
    "ax.legend(handles = [bi_patches], bbox_to_anchor=(1,-.05))\n",
    "ax.set_title(\"Biodiversity Intactness Index (BII) - Phoenix subdivision\")\n",
    "\n",
    "plt.show()\n",
    "\n",
    "# Save figure as image\n",
    "plt.savefig('bii_phoenix.png',bbox_inches = 'tight',dpi = 50)"
   ]
  }
 ],
 "metadata": {
  "kernelspec": {
   "display_name": "Python 3 (ipykernel)",
   "language": "python",
   "name": "python3"
  },
  "language_info": {
   "codemirror_mode": {
    "name": "ipython",
    "version": 3
   },
   "file_extension": ".py",
   "mimetype": "text/x-python",
   "name": "python",
   "nbconvert_exporter": "python",
   "pygments_lexer": "ipython3",
   "version": "3.11.4"
  }
 },
 "nbformat": 4,
 "nbformat_minor": 5
}
