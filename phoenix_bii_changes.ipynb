{
 "cells": [
  {
   "cell_type": "markdown",
   "id": "9c9100d7-d2a4-4d19-8592-dabfe70833f9",
   "metadata": {},
   "source": [
    "# Analyze Maricopa County, Arizona  Biodiversity Intactness Index (BII) changes from 2017-2020"
   ]
  },
  {
   "cell_type": "markdown",
   "id": "e234fe57-6f49-45de-963a-8623e98042ba",
   "metadata": {
    "tags": []
   },
   "source": [
    "Author: Hazel Vaquero\n",
    "\n",
    "Repository Link: https://github.com/hazelvaq/Maricopa-Arizona-Changes-in-Biodiversity-Intactness-Index-.git \n",
    "\n",
    "## About \n",
    "\n",
    "In this notebook we analyse the changes observed in Biodiversity Intactness Index (BII) in Maricopa County, Phoenix, Arizona from 2017 to 2020. In 2021, Maricopa County was reported as the fastest growing county in the United States since 2001. It is the 4th largest county in terms of population. Urban development creates pressure on biodiversity and natural areas. This notebook seeks to analyze the impact of the rapid urban expansion in Maricopa County. \n",
    "\n",
    "## About the Datasets\n",
    "\n",
    "In this notebook we use two different datasets:\n",
    "\n",
    "**1. BII Data** \n",
    "\n",
    "`io-biodiversity` collection\n",
    "\n",
    "**2. Phoenix Subdivison** \n",
    "\n",
    "## Final Output"
   ]
  },
  {
   "cell_type": "code",
   "execution_count": null,
   "id": "8564fb30-afb6-4d55-9162-2b9311707b9b",
   "metadata": {},
   "outputs": [],
   "source": []
  },
  {
   "cell_type": "markdown",
   "id": "a0c04766-c672-4938-addc-9d018097f938",
   "metadata": {},
   "source": [
    "### Import Libraries "
   ]
  },
  {
   "cell_type": "code",
   "execution_count": 6,
   "id": "7161dbe1-038e-45aa-9eb2-d28922212999",
   "metadata": {
    "tags": []
   },
   "outputs": [
    {
     "ename": "ModuleNotFoundError",
     "evalue": "No module named 'pystac_client'",
     "output_type": "error",
     "traceback": [
      "\u001b[0;31m---------------------------------------------------------------------------\u001b[0m",
      "\u001b[0;31mModuleNotFoundError\u001b[0m                       Traceback (most recent call last)",
      "\u001b[0;32m/tmp/ipykernel_3010956/2681673345.py\u001b[0m in \u001b[0;36m<module>\u001b[0;34m\u001b[0m\n\u001b[1;32m      8\u001b[0m \u001b[0;34m\u001b[0m\u001b[0m\n\u001b[1;32m      9\u001b[0m \u001b[0;31m# Used to access STAC catalogs\u001b[0m\u001b[0;34m\u001b[0m\u001b[0;34m\u001b[0m\u001b[0m\n\u001b[0;32m---> 10\u001b[0;31m \u001b[0;32mfrom\u001b[0m \u001b[0mpystac_client\u001b[0m \u001b[0;32mimport\u001b[0m \u001b[0mClient\u001b[0m\u001b[0;34m\u001b[0m\u001b[0;34m\u001b[0m\u001b[0m\n\u001b[0m\u001b[1;32m     11\u001b[0m \u001b[0;31m# Used to sign items from the MPC STAC catalog\u001b[0m\u001b[0;34m\u001b[0m\u001b[0;34m\u001b[0m\u001b[0m\n\u001b[1;32m     12\u001b[0m \u001b[0;32mimport\u001b[0m \u001b[0mplanetary_computer\u001b[0m\u001b[0;34m\u001b[0m\u001b[0;34m\u001b[0m\u001b[0m\n",
      "\u001b[0;31mModuleNotFoundError\u001b[0m: No module named 'pystac_client'"
     ]
    }
   ],
   "source": [
    "# Import Libraries\n",
    "import numpy as np\n",
    "import geopandas as gpd\n",
    "import rioxarray as rioxr\n",
    "import matplotlib.pyplot as plt\n",
    "\n",
    "from shapely.geometry import Polygon\n",
    "\n",
    "# Used to access STAC catalogs\n",
    "from pystac_client import Client\n",
    "# Used to sign items from the MPC STAC catalog\n",
    "import planetary_computer\n",
    "\n",
    "# other libraries for nice outputs\n",
    "from IPython.display import Image"
   ]
  },
  {
   "cell_type": "markdown",
   "id": "7ca2e84d-d11c-43cd-a5ea-ae362058eb16",
   "metadata": {},
   "source": [
    "### Import Data"
   ]
  },
  {
   "cell_type": "code",
   "execution_count": 2,
   "id": "cf5c45db-0e37-4b55-ba42-dba72837de43",
   "metadata": {
    "tags": []
   },
   "outputs": [],
   "source": [
    "# Data Import: BII data\n",
    "\n",
    "## Acess Planatery Computer Catalog\n",
    "catalog = Client.open(\n",
    "    \"https://planetarycomputer.microsoft.com/api/stac/v1\",\n",
    "    modifier=planetary_computer.sign_inplace,\n",
    ")\n",
    "\n",
    "## Catalog Search\n",
    "# Set temporal range\n",
    "time_range = \"2017/2020\"\n",
    "# Bonding box of Phoenix subdivision\n",
    "bbox = {\n",
    "   \"type\": \"Polygon\",\n",
    "    \"coordinates\": [\n",
    "        [\n",
    "            [-112.826843, 32.974108],\n",
    "            [-111.184387, 32.974108],\n",
    "            [-111.184387, 33.863574],\n",
    "            [-112.826843, 33.863574],\n",
    "            [-112.826843, 32.974108]  # Make sure the first and last coordinates are the same to close the polygon\n",
    "        ]\n",
    "    ]\n",
    "}\n",
    "# catalog search\n",
    "search = catalog.search(\n",
    "    collections=['io-biodiversity'],\n",
    "    intersects=bbox,\n",
    "    datetime = time_range\n",
    ")\n",
    "\n",
    "# Get items found in catalog search\n",
    "item = search.item_collection()\n",
    "\n",
    "# get first item in the catalog search\n",
    "item = items[0]"
   ]
  },
  {
   "cell_type": "code",
   "execution_count": 12,
   "id": "a33f5ddd-534e-4b00-a17b-6fb3f352c112",
   "metadata": {
    "tags": []
   },
   "outputs": [],
   "source": [
    "# Data Import: Phoenix subdivision\n",
    "phoenix_counties = gpd.read_file('data/tl_2022_04_cousub.shp')"
   ]
  }
 ],
 "metadata": {
  "kernelspec": {
   "display_name": "Anaconda 3 (Base)",
   "language": "python",
   "name": "base"
  },
  "language_info": {
   "codemirror_mode": {
    "name": "ipython",
    "version": 3
   },
   "file_extension": ".py",
   "mimetype": "text/x-python",
   "name": "python",
   "nbconvert_exporter": "python",
   "pygments_lexer": "ipython3",
   "version": "3.9.13"
  }
 },
 "nbformat": 4,
 "nbformat_minor": 5
}
