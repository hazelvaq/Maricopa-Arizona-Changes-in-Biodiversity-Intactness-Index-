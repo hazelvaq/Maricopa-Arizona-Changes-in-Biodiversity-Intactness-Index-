{
 "cells": [
  {
   "cell_type": "markdown",
   "id": "9c9100d7-d2a4-4d19-8592-dabfe70833f9",
   "metadata": {},
   "source": [
    "# Analyze Maricopa County, Arizona  Biodiversity Intactness Index (BII) changes from 2017-2020"
   ]
  },
  {
   "cell_type": "markdown",
   "id": "e234fe57-6f49-45de-963a-8623e98042ba",
   "metadata": {
    "tags": []
   },
   "source": [
    "Author: Hazel Vaquero\n",
    "\n",
    "Repository Link: https://github.com/hazelvaq/Maricopa-Arizona-Changes-in-Biodiversity-Intactness-Index-.git \n",
    "\n",
    "## About \n",
    "\n",
    "In this notebook we analyse the changes observed in Biodiversity Intactness Index (BII) in Maricopa County, Phoenix, Arizona from 2017 to 2020. In 2021, Maricopa County was reported as the fastest growing county in the United States since 2001. It is the 4th largest county in terms of population. Urban development creates pressure on biodiversity and natural areas. This notebook seeks to analyze the impact of the rapid urban expansion in Maricopa County. \n",
    "\n",
    "## About the Datasets\n",
    "\n",
    "In this notebook we use two different datasets:\n",
    "\n",
    "**1. BII Data** \n",
    "\n",
    "**2. Phoenix Subdivison** \n",
    "\n",
    "## Final Output"
   ]
  },
  {
   "cell_type": "code",
   "execution_count": 6,
   "id": "7161dbe1-038e-45aa-9eb2-d28922212999",
   "metadata": {
    "tags": []
   },
   "outputs": [
    {
     "ename": "ModuleNotFoundError",
     "evalue": "No module named 'pystac_client'",
     "output_type": "error",
     "traceback": [
      "\u001b[0;31m---------------------------------------------------------------------------\u001b[0m",
      "\u001b[0;31mModuleNotFoundError\u001b[0m                       Traceback (most recent call last)",
      "\u001b[0;32m/tmp/ipykernel_3010956/2681673345.py\u001b[0m in \u001b[0;36m<module>\u001b[0;34m\u001b[0m\n\u001b[1;32m      8\u001b[0m \u001b[0;34m\u001b[0m\u001b[0m\n\u001b[1;32m      9\u001b[0m \u001b[0;31m# Used to access STAC catalogs\u001b[0m\u001b[0;34m\u001b[0m\u001b[0;34m\u001b[0m\u001b[0m\n\u001b[0;32m---> 10\u001b[0;31m \u001b[0;32mfrom\u001b[0m \u001b[0mpystac_client\u001b[0m \u001b[0;32mimport\u001b[0m \u001b[0mClient\u001b[0m\u001b[0;34m\u001b[0m\u001b[0;34m\u001b[0m\u001b[0m\n\u001b[0m\u001b[1;32m     11\u001b[0m \u001b[0;31m# Used to sign items from the MPC STAC catalog\u001b[0m\u001b[0;34m\u001b[0m\u001b[0;34m\u001b[0m\u001b[0m\n\u001b[1;32m     12\u001b[0m \u001b[0;32mimport\u001b[0m \u001b[0mplanetary_computer\u001b[0m\u001b[0;34m\u001b[0m\u001b[0;34m\u001b[0m\u001b[0m\n",
      "\u001b[0;31mModuleNotFoundError\u001b[0m: No module named 'pystac_client'"
     ]
    }
   ],
   "source": [
    "# Import Libraries\n",
    "import numpy as np\n",
    "import geopandas as gpd\n",
    "import rioxarray as rioxr\n",
    "import matplotlib.pyplot as plt\n",
    "\n",
    "from shapely.geometry import Polygon\n",
    "\n",
    "# Used to access STAC catalogs\n",
    "from pystac_client import Client\n",
    "# Used to sign items from the MPC STAC catalog\n",
    "import planetary_computer\n",
    "\n",
    "# other libraries for nice outputs\n",
    "from IPython.display import Image"
   ]
  },
  {
   "cell_type": "code",
   "execution_count": 2,
   "id": "cf5c45db-0e37-4b55-ba42-dba72837de43",
   "metadata": {
    "tags": []
   },
   "outputs": [],
   "source": [
    "# Data Import"
   ]
  }
 ],
 "metadata": {
  "kernelspec": {
   "display_name": "Anaconda 3 (Base)",
   "language": "python",
   "name": "base"
  },
  "language_info": {
   "codemirror_mode": {
    "name": "ipython",
    "version": 3
   },
   "file_extension": ".py",
   "mimetype": "text/x-python",
   "name": "python",
   "nbconvert_exporter": "python",
   "pygments_lexer": "ipython3",
   "version": "3.9.13"
  }
 },
 "nbformat": 4,
 "nbformat_minor": 5
}
